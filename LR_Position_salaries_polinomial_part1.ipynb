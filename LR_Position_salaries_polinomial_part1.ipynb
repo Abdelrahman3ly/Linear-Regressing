{
  "nbformat": 4,
  "nbformat_minor": 0,
  "metadata": {
    "colab": {
      "provenance": []
    },
    "kernelspec": {
      "name": "python3",
      "display_name": "Python 3"
    }
  },
  "cells": [
    {
      "cell_type": "code",
      "metadata": {
        "id": "2Ji0M1Z_mk11"
      },
      "source": [
        "import pandas as pd\n",
        "import matplotlib.pyplot as plt\n",
        "from sklearn.preprocessing import PolynomialFeatures\n",
        "from sklearn.linear_model import LinearRegression\n",
        "from sklearn.metrics import mean_squared_error"
      ],
      "execution_count": null,
      "outputs": []
    },
    {
      "cell_type": "code",
      "metadata": {
        "id": "PJ3Mh2ewp3Wj"
      },
      "source": [
        "df = pd.read_csv('Position_Salaries.csv')\n",
        "X = df.iloc[:,1:2]\n",
        "y=df.iloc[:,2]\n",
        "# df.head(10)"
      ],
      "execution_count": null,
      "outputs": []
    },
    {
      "cell_type": "code",
      "metadata": {
        "id": "5cCPUtxbZXIV",
        "colab": {
          "base_uri": "https://localhost:8080/"
        },
        "outputId": "314982fb-ac0e-4bf7-8a97-d7ca9bdead2e"
      },
      "source": [
        "# Fitting Polynomial Regression to the dataset\n",
        "X_poly = PolynomialFeatures(degree=3).fit_transform(X)\n",
        "X_poly"
      ],
      "execution_count": null,
      "outputs": [
        {
          "output_type": "execute_result",
          "data": {
            "text/plain": [
              "array([[   1.,    1.,    1.,    1.],\n",
              "       [   1.,    2.,    4.,    8.],\n",
              "       [   1.,    3.,    9.,   27.],\n",
              "       [   1.,    4.,   16.,   64.],\n",
              "       [   1.,    5.,   25.,  125.],\n",
              "       [   1.,    6.,   36.,  216.],\n",
              "       [   1.,    7.,   49.,  343.],\n",
              "       [   1.,    8.,   64.,  512.],\n",
              "       [   1.,    9.,   81.,  729.],\n",
              "       [   1.,   10.,  100., 1000.]])"
            ]
          },
          "metadata": {},
          "execution_count": 3
        }
      ]
    },
    {
      "cell_type": "code",
      "metadata": {
        "colab": {
          "base_uri": "https://localhost:8080/"
        },
        "id": "Rm7XjNbQDLtZ",
        "outputId": "a6957a13-3c36-43d5-8b9b-e38712e41fc2"
      },
      "source": [
        "# define and train a model\n",
        "model = LinearRegression()\n",
        "model.fit(X_poly, y)\n",
        "y_pred=model.predict(X_poly)\n",
        "y_pred"
      ],
      "execution_count": null,
      "outputs": [
        {
          "output_type": "execute_result",
          "data": {
            "text/plain": [
              "array([ 14902.09790211,  78759.90675991,  94960.37296037,  88223.77622378,\n",
              "        83270.3962704 , 104820.51282052, 177594.40559441, 326312.35431236,\n",
              "       575694.63869463, 950461.53846152])"
            ]
          },
          "metadata": {},
          "execution_count": 4
        }
      ]
    },
    {
      "cell_type": "code",
      "source": [
        "# model.predict(PolynomialFeatures(degree=2).fit_transform([[3.5]]))"
      ],
      "metadata": {
        "id": "loqg10ztuqMr"
      },
      "execution_count": null,
      "outputs": []
    },
    {
      "cell_type": "code",
      "metadata": {
        "colab": {
          "base_uri": "https://localhost:8080/"
        },
        "id": "hPoFnE9REo3W",
        "outputId": "05925a41-4d5c-41a6-eeac-eb3b04eae2e9"
      },
      "source": [
        "# Visualizing the Polymonial Regression results\n",
        "plt.scatter(X, y, color='red')\n",
        "plt.plot(X, y_pred, color='blue')\n",
        "plt.title('(Polymonial Regression)')\n",
        "plt.xlabel('Position Level')\n",
        "plt.ylabel('Salary')\n"
      ],
      "execution_count": null,
      "outputs": [
        {
          "output_type": "execute_result",
          "data": {
            "text/plain": [
              "Text(0, 0.5, 'Salary')"
            ]
          },
          "metadata": {},
          "execution_count": 6
        },
        {
          "output_type": "display_data",
          "data": {
            "text/plain": [
              "<Figure size 640x480 with 1 Axes>"
            ],
            "image/png": "[encoded data removed]"
          },
          "metadata": {}
        }
      ]
    },
    {
      "cell_type": "code",
      "metadata": {
        "id": "unigAKx7iI8W",
        "outputId": "04a4272e-02b7-4562-eb55-becaefd83650",
        "colab": {
          "base_uri": "https://localhost:8080/"
        }
      },
      "source": [
        "#mean squared error for linear polinomial regression\n",
        "mse_pol=mean_squared_error(y,y_pred)\n",
        "mse_pol\n"
      ],
      "execution_count": null,
      "outputs": [
        {
          "output_type": "execute_result",
          "data": {
            "text/plain": [
              "1515662004.6620114"
            ]
          },
          "metadata": {},
          "execution_count": 7
        }
      ]
    },
    {
      "cell_type": "code",
      "source": [
        "from sklearn.metrics import r2_score\n",
        "print(r2_score(y,y_pred))"
      ],
      "metadata": {
        "colab": {
          "base_uri": "https://localhost:8080/"
        },
        "id": "pup0j98cC3XI",
        "outputId": "8d9c577b-9cf5-4d11-90e0-202e8304d51c"
      },
      "execution_count": null,
      "outputs": [
        {
          "output_type": "stream",
          "name": "stdout",
          "text": [
            "0.9812097727913366\n"
          ]
        }
      ]
    }
  ]
}